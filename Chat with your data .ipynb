{
 "cells": [
  {
   "cell_type": "markdown",
   "id": "84c5a1ef",
   "metadata": {},
   "source": [
    "## Chat with your own data"
   ]
  },
  {
   "cell_type": "code",
   "execution_count": 3,
   "id": "1ff6d3b5",
   "metadata": {},
   "outputs": [],
   "source": [
    "import os\n",
    "OPENAI_API_KEY=\"Enter your openAI api key\"\n",
    "os.environ[\"OPENAI_API_KEY\"] = OPENAI_API_KEY\n"
   ]
  },
  {
   "cell_type": "code",
   "execution_count": 20,
   "id": "9bce77aa",
   "metadata": {},
   "outputs": [],
   "source": [
    "from llama_index import VectorStoreIndex, SimpleDirectoryReader,ServiceContext\n",
    "from llama_index.indices.vector_store.retrievers import VectorIndexRetriever\n"
   ]
  },
  {
   "cell_type": "markdown",
   "id": "da2046f1",
   "metadata": {},
   "source": [
    "### SimpleDirectoryReader reads all the files present in the folder"
   ]
  },
  {
   "cell_type": "code",
   "execution_count": null,
   "id": "1cd93655",
   "metadata": {},
   "outputs": [],
   "source": [
    "# enter folder name\n",
    "documents = SimpleDirectoryReader(\"Enter the address of the folder your data is in\").load_data()"
   ]
  },
  {
   "cell_type": "markdown",
   "id": "8ae831c0",
   "metadata": {},
   "source": [
    "### VectorStoreIndex creates a vector store for the documents it has nodes and their embeddings"
   ]
  },
  {
   "cell_type": "code",
   "execution_count": null,
   "id": "97297de5",
   "metadata": {},
   "outputs": [],
   "source": [
    "# build index\n",
    "index = VectorStoreIndex.from_documents(documents)\n"
   ]
  },
  {
   "cell_type": "markdown",
   "id": "01a7ca2f",
   "metadata": {},
   "source": [
    "### With query engine you can ask questions regarding your data. Query engine sends the query and relevant nodes to the LLM"
   ]
  },
  {
   "cell_type": "code",
   "execution_count": null,
   "id": "2460f093",
   "metadata": {},
   "outputs": [],
   "source": [
    "query_engine = index.as_query_engine()\n",
    "res = query_engine.query('what is the document about')\n"
   ]
  }
 ],
 "metadata": {
  "kernelspec": {
   "display_name": "Python 3 (ipykernel)",
   "language": "python",
   "name": "python3"
  },
  "language_info": {
   "codemirror_mode": {
    "name": "ipython",
    "version": 3
   },
   "file_extension": ".py",
   "mimetype": "text/x-python",
   "name": "python",
   "nbconvert_exporter": "python",
   "pygments_lexer": "ipython3",
   "version": "3.9.12"
  }
 },
 "nbformat": 4,
 "nbformat_minor": 5
}
