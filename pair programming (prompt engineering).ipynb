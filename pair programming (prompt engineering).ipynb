{
 "cells": [
  {
   "cell_type": "code",
   "execution_count": 2,
   "id": "1b0c678a",
   "metadata": {},
   "outputs": [],
   "source": [
    "import os\n",
    "import google.generativeai as palm\n",
    "from google.api_core import client_options as client_options_lib\n",
    "\n",
    "palm.configure(\n",
    "    api_key='Your Palm api key',\n",
    "    transport=\"rest\",\n",
    "    client_options=client_options_lib.ClientOptions(\n",
    "        api_endpoint=os.getenv(\"GOOGLE_API_BASE\"),\n",
    "    )\n",
    ")"
   ]
  },
  {
   "cell_type": "code",
   "execution_count": 3,
   "id": "23cf0979",
   "metadata": {},
   "outputs": [],
   "source": [
    "from google.api_core import retry\n",
    "@retry.Retry()\n",
    "def generate_text(prompt, temperature=0.0):\n",
    "    return palm.generate_text(prompt = prompt,temperature = temperature)"
   ]
  },
  {
   "cell_type": "code",
   "execution_count": 4,
   "id": "18d4b41a",
   "metadata": {},
   "outputs": [],
   "source": [
    "prompt_template = \"\"\"\n",
    "{priming}\n",
    "\n",
    "{question}\n",
    "\n",
    "{decorator}\n",
    "\n",
    "Your solution:\n",
    "\"\"\""
   ]
  },
  {
   "cell_type": "code",
   "execution_count": 5,
   "id": "c2a13e3f",
   "metadata": {},
   "outputs": [
    {
     "name": "stdout",
     "output_type": "stream",
     "text": [
      "Please Enter the programming language you want AI to help you injavascript\n"
     ]
    }
   ],
   "source": [
    "language = input(\"Please Enter the programming language you want AI to help you in\")\n",
    "priming_text = f\"You are an expert in writing clean and easy to understand code in {language} language\""
   ]
  },
  {
   "cell_type": "code",
   "execution_count": 6,
   "id": "64ff3f4a",
   "metadata": {},
   "outputs": [
    {
     "name": "stdout",
     "output_type": "stream",
     "text": [
      "Ask the questiongive an example of closure\n"
     ]
    }
   ],
   "source": [
    "question = input('Ask the question')\n",
    "decorator = \"Insert comments for each line of code.\""
   ]
  },
  {
   "cell_type": "code",
   "execution_count": 7,
   "id": "7138eb9e",
   "metadata": {},
   "outputs": [
    {
     "data": {
      "text/plain": [
       "'\\nYou are an expert in writing clean and easy to understand code in javascript language\\n\\ngive an example of closure\\n\\nInsert comments for each line of code.\\n\\nYour solution:\\n'"
      ]
     },
     "execution_count": 7,
     "metadata": {},
     "output_type": "execute_result"
    }
   ],
   "source": [
    "prompt = prompt_template.format(priming=priming_text,\n",
    "                                question=question,\n",
    "                                decorator=decorator)\n",
    "prompt"
   ]
  },
  {
   "cell_type": "code",
   "execution_count": 9,
   "id": "a1c0d9a7",
   "metadata": {},
   "outputs": [
    {
     "name": "stdout",
     "output_type": "stream",
     "text": [
      "```javascript\n",
      "// This is an example of a closure in JavaScript.\n",
      "\n",
      "// A closure is a function that has access to the variables of its enclosing scope, even after that scope has been closed.\n",
      "\n",
      "// In this example, the `increment` function is a closure. It has access to the `counter` variable, even though the `increment` function is defined outside of the `incrementCounter` function.\n",
      "\n",
      "function incrementCounter() {\n",
      "  // `counter` is a variable that is declared in the `incrementCounter` function.\n",
      "  var counter = 0;\n",
      "\n",
      "  // The `increment` function is defined inside the `incrementCounter` function.\n",
      "  function increment() {\n",
      "    // `counter` is accessible inside the `increment` function, even though the `increment` function is defined outside of the `incrementCounter` function.\n",
      "    counter++;\n",
      "  }\n",
      "\n",
      "  // The `increment` function is returned by the `incrementCounter` function.\n",
      "  return increment;\n",
      "}\n",
      "\n",
      "// The `incrementCounter` function is called.\n",
      "var incrementer = incrementCounter();\n",
      "\n",
      "// The `increment` function is called.\n",
      "incrementer();\n",
      "\n",
      "// The value of `counter` is printed to the console.\n",
      "console.log(counter); // 1\n",
      "```\n"
     ]
    }
   ],
   "source": [
    "completion = generate_text(prompt)\n",
    "print(completion.result)"
   ]
  },
  {
   "cell_type": "code",
   "execution_count": null,
   "id": "b1883bbe",
   "metadata": {},
   "outputs": [],
   "source": []
  }
 ],
 "metadata": {
  "kernelspec": {
   "display_name": "Python 3 (ipykernel)",
   "language": "python",
   "name": "python3"
  },
  "language_info": {
   "codemirror_mode": {
    "name": "ipython",
    "version": 3
   },
   "file_extension": ".py",
   "mimetype": "text/x-python",
   "name": "python",
   "nbconvert_exporter": "python",
   "pygments_lexer": "ipython3",
   "version": "3.9.12"
  }
 },
 "nbformat": 4,
 "nbformat_minor": 5
}
